{
  "nbformat": 4,
  "nbformat_minor": 0,
  "metadata": {
    "colab": {
      "name": "Market Basket Analysis.ipynb",
      "provenance": [],
      "collapsed_sections": [],
      "authorship_tag": "ABX9TyMCDARi8tIm2k+WV5mVNqon",
      "include_colab_link": true
    },
    "kernelspec": {
      "name": "python3",
      "display_name": "Python 3"
    }
  },
  "cells": [
    {
      "cell_type": "markdown",
      "metadata": {
        "id": "view-in-github",
        "colab_type": "text"
      },
      "source": [
        "<a href=\"https://colab.research.google.com/github/Mayank1325/Customer-Analytics/blob/main/Market_Basket_Analysis.ipynb\" target=\"_parent\"><img src=\"https://colab.research.google.com/assets/colab-badge.svg\" alt=\"Open In Colab\"/></a>"
      ]
    },
    {
      "cell_type": "markdown",
      "metadata": {
        "id": "4ksQT4HazO1g"
      },
      "source": [
        "Association rules analysis is a technique to uncover how items are associated to each other. There are three common ways to measure association.\n",
        "\n",
        "Measure 1: Support. This says how popular an itemset is, it is number of times appear in total number of transaction. in other word we say frequency of item.\n",
        "\n",
        "Measure 2: Confidence. This says how likely item Y is purchased when item X is purchased, expressed as {X -> Y}. This is measured by the proportion of transactions with item X, in which item Y also appears.\n",
        "\n",
        "Measure 3: Lift. it is ratio of expected confidance to observed confidance. it is described as confidance of Y when item X was already known(x/y) to the confidance of Y when X item is unknown. in other words confidance of Y w.r.t. x and confiadnce of Y without X (means both are independent to each other).\n",
        "\n",
        "support = occurance of item / total no of transaction.\n",
        "\n",
        "confidance = support ( X Union Y) / support(X).\n",
        "\n",
        "lift = support (X Union Y)/ support(X) * support(Y) ."
      ]
    },
    {
      "cell_type": "markdown",
      "metadata": {
        "id": "QKU_8aZ40hYQ"
      },
      "source": [
        "**LOAD LIBRARIES**"
      ]
    },
    {
      "cell_type": "code",
      "metadata": {
        "id": "HdZV0QCWzQFE"
      },
      "source": [
        "import pandas as pd\n",
        "from mlxtend.frequent_patterns import apriori\n",
        "from mlxtend.frequent_patterns import association_rules"
      ],
      "execution_count": null,
      "outputs": []
    },
    {
      "cell_type": "code",
      "metadata": {
        "id": "HEU7ll7dzfHp"
      },
      "source": [
        "\n",
        "import numpy as np\n",
        "import seaborn as sns"
      ],
      "execution_count": null,
      "outputs": []
    },
    {
      "cell_type": "markdown",
      "metadata": {
        "id": "eo5rngV00njG"
      },
      "source": [
        "**LOAD AND KNOW THY DATA**"
      ]
    },
    {
      "cell_type": "code",
      "metadata": {
        "id": "NR-dGlZ7zqhu"
      },
      "source": [
        "retail_df = pd.read_excel(\"/content/Online Retail.xlsx\")"
      ],
      "execution_count": null,
      "outputs": []
    },
    {
      "cell_type": "code",
      "metadata": {
        "id": "yb9OBZRiz0FN",
        "outputId": "c41faf11-4a3c-48f4-b89f-e8dbadb31d98",
        "colab": {
          "base_uri": "https://localhost:8080/",
          "height": 289
        }
      },
      "source": [
        "retail_df.head()"
      ],
      "execution_count": null,
      "outputs": [
        {
          "output_type": "execute_result",
          "data": {
            "text/html": [
              "<div>\n",
              "<style scoped>\n",
              "    .dataframe tbody tr th:only-of-type {\n",
              "        vertical-align: middle;\n",
              "    }\n",
              "\n",
              "    .dataframe tbody tr th {\n",
              "        vertical-align: top;\n",
              "    }\n",
              "\n",
              "    .dataframe thead th {\n",
              "        text-align: right;\n",
              "    }\n",
              "</style>\n",
              "<table border=\"1\" class=\"dataframe\">\n",
              "  <thead>\n",
              "    <tr style=\"text-align: right;\">\n",
              "      <th></th>\n",
              "      <th>InvoiceNo</th>\n",
              "      <th>StockCode</th>\n",
              "      <th>Description</th>\n",
              "      <th>Quantity</th>\n",
              "      <th>InvoiceDate</th>\n",
              "      <th>UnitPrice</th>\n",
              "      <th>CustomerID</th>\n",
              "      <th>Country</th>\n",
              "    </tr>\n",
              "  </thead>\n",
              "  <tbody>\n",
              "    <tr>\n",
              "      <th>0</th>\n",
              "      <td>536365</td>\n",
              "      <td>85123A</td>\n",
              "      <td>WHITE HANGING HEART T-LIGHT HOLDER</td>\n",
              "      <td>6</td>\n",
              "      <td>2010-12-01 08:26:00</td>\n",
              "      <td>2.55</td>\n",
              "      <td>17850.0</td>\n",
              "      <td>United Kingdom</td>\n",
              "    </tr>\n",
              "    <tr>\n",
              "      <th>1</th>\n",
              "      <td>536365</td>\n",
              "      <td>71053</td>\n",
              "      <td>WHITE METAL LANTERN</td>\n",
              "      <td>6</td>\n",
              "      <td>2010-12-01 08:26:00</td>\n",
              "      <td>3.39</td>\n",
              "      <td>17850.0</td>\n",
              "      <td>United Kingdom</td>\n",
              "    </tr>\n",
              "    <tr>\n",
              "      <th>2</th>\n",
              "      <td>536365</td>\n",
              "      <td>84406B</td>\n",
              "      <td>CREAM CUPID HEARTS COAT HANGER</td>\n",
              "      <td>8</td>\n",
              "      <td>2010-12-01 08:26:00</td>\n",
              "      <td>2.75</td>\n",
              "      <td>17850.0</td>\n",
              "      <td>United Kingdom</td>\n",
              "    </tr>\n",
              "    <tr>\n",
              "      <th>3</th>\n",
              "      <td>536365</td>\n",
              "      <td>84029G</td>\n",
              "      <td>KNITTED UNION FLAG HOT WATER BOTTLE</td>\n",
              "      <td>6</td>\n",
              "      <td>2010-12-01 08:26:00</td>\n",
              "      <td>3.39</td>\n",
              "      <td>17850.0</td>\n",
              "      <td>United Kingdom</td>\n",
              "    </tr>\n",
              "    <tr>\n",
              "      <th>4</th>\n",
              "      <td>536365</td>\n",
              "      <td>84029E</td>\n",
              "      <td>RED WOOLLY HOTTIE WHITE HEART.</td>\n",
              "      <td>6</td>\n",
              "      <td>2010-12-01 08:26:00</td>\n",
              "      <td>3.39</td>\n",
              "      <td>17850.0</td>\n",
              "      <td>United Kingdom</td>\n",
              "    </tr>\n",
              "  </tbody>\n",
              "</table>\n",
              "</div>"
            ],
            "text/plain": [
              "  InvoiceNo StockCode  ... CustomerID         Country\n",
              "0    536365    85123A  ...    17850.0  United Kingdom\n",
              "1    536365     71053  ...    17850.0  United Kingdom\n",
              "2    536365    84406B  ...    17850.0  United Kingdom\n",
              "3    536365    84029G  ...    17850.0  United Kingdom\n",
              "4    536365    84029E  ...    17850.0  United Kingdom\n",
              "\n",
              "[5 rows x 8 columns]"
            ]
          },
          "metadata": {
            "tags": []
          },
          "execution_count": 9
        }
      ]
    },
    {
      "cell_type": "code",
      "metadata": {
        "id": "MLKeuRyx0vE-",
        "outputId": "993dedc6-9d98-4a06-91eb-c8a594d17a5e",
        "colab": {
          "base_uri": "https://localhost:8080/",
          "height": 272
        }
      },
      "source": [
        "retail_df.info()"
      ],
      "execution_count": null,
      "outputs": [
        {
          "output_type": "stream",
          "text": [
            "<class 'pandas.core.frame.DataFrame'>\n",
            "RangeIndex: 541909 entries, 0 to 541908\n",
            "Data columns (total 8 columns):\n",
            " #   Column       Non-Null Count   Dtype         \n",
            "---  ------       --------------   -----         \n",
            " 0   InvoiceNo    541909 non-null  object        \n",
            " 1   StockCode    541909 non-null  object        \n",
            " 2   Description  540455 non-null  object        \n",
            " 3   Quantity     541909 non-null  int64         \n",
            " 4   InvoiceDate  541909 non-null  datetime64[ns]\n",
            " 5   UnitPrice    541909 non-null  float64       \n",
            " 6   CustomerID   406829 non-null  float64       \n",
            " 7   Country      541909 non-null  object        \n",
            "dtypes: datetime64[ns](1), float64(2), int64(1), object(4)\n",
            "memory usage: 33.1+ MB\n"
          ],
          "name": "stdout"
        }
      ]
    },
    {
      "cell_type": "code",
      "metadata": {
        "id": "UAQekf_C0zFG",
        "outputId": "d9870823-2b9c-420d-cb7a-8482c85d0721",
        "colab": {
          "base_uri": "https://localhost:8080/",
          "height": 297
        }
      },
      "source": [
        "retail_df.describe()"
      ],
      "execution_count": null,
      "outputs": [
        {
          "output_type": "execute_result",
          "data": {
            "text/html": [
              "<div>\n",
              "<style scoped>\n",
              "    .dataframe tbody tr th:only-of-type {\n",
              "        vertical-align: middle;\n",
              "    }\n",
              "\n",
              "    .dataframe tbody tr th {\n",
              "        vertical-align: top;\n",
              "    }\n",
              "\n",
              "    .dataframe thead th {\n",
              "        text-align: right;\n",
              "    }\n",
              "</style>\n",
              "<table border=\"1\" class=\"dataframe\">\n",
              "  <thead>\n",
              "    <tr style=\"text-align: right;\">\n",
              "      <th></th>\n",
              "      <th>Quantity</th>\n",
              "      <th>UnitPrice</th>\n",
              "      <th>CustomerID</th>\n",
              "    </tr>\n",
              "  </thead>\n",
              "  <tbody>\n",
              "    <tr>\n",
              "      <th>count</th>\n",
              "      <td>541909.000000</td>\n",
              "      <td>541909.000000</td>\n",
              "      <td>406829.000000</td>\n",
              "    </tr>\n",
              "    <tr>\n",
              "      <th>mean</th>\n",
              "      <td>9.552250</td>\n",
              "      <td>4.611114</td>\n",
              "      <td>15287.690570</td>\n",
              "    </tr>\n",
              "    <tr>\n",
              "      <th>std</th>\n",
              "      <td>218.081158</td>\n",
              "      <td>96.759853</td>\n",
              "      <td>1713.600303</td>\n",
              "    </tr>\n",
              "    <tr>\n",
              "      <th>min</th>\n",
              "      <td>-80995.000000</td>\n",
              "      <td>-11062.060000</td>\n",
              "      <td>12346.000000</td>\n",
              "    </tr>\n",
              "    <tr>\n",
              "      <th>25%</th>\n",
              "      <td>1.000000</td>\n",
              "      <td>1.250000</td>\n",
              "      <td>13953.000000</td>\n",
              "    </tr>\n",
              "    <tr>\n",
              "      <th>50%</th>\n",
              "      <td>3.000000</td>\n",
              "      <td>2.080000</td>\n",
              "      <td>15152.000000</td>\n",
              "    </tr>\n",
              "    <tr>\n",
              "      <th>75%</th>\n",
              "      <td>10.000000</td>\n",
              "      <td>4.130000</td>\n",
              "      <td>16791.000000</td>\n",
              "    </tr>\n",
              "    <tr>\n",
              "      <th>max</th>\n",
              "      <td>80995.000000</td>\n",
              "      <td>38970.000000</td>\n",
              "      <td>18287.000000</td>\n",
              "    </tr>\n",
              "  </tbody>\n",
              "</table>\n",
              "</div>"
            ],
            "text/plain": [
              "            Quantity      UnitPrice     CustomerID\n",
              "count  541909.000000  541909.000000  406829.000000\n",
              "mean        9.552250       4.611114   15287.690570\n",
              "std       218.081158      96.759853    1713.600303\n",
              "min    -80995.000000  -11062.060000   12346.000000\n",
              "25%         1.000000       1.250000   13953.000000\n",
              "50%         3.000000       2.080000   15152.000000\n",
              "75%        10.000000       4.130000   16791.000000\n",
              "max     80995.000000   38970.000000   18287.000000"
            ]
          },
          "metadata": {
            "tags": []
          },
          "execution_count": 11
        }
      ]
    },
    {
      "cell_type": "markdown",
      "metadata": {
        "id": "TVB61hp10-UT"
      },
      "source": [
        "**Clean Thy Data**"
      ]
    },
    {
      "cell_type": "code",
      "metadata": {
        "id": "4MDPVpS104u3"
      },
      "source": [
        "#Remove Additional Space\n",
        "retail_df['Description'] = retail_df['Description'].str.strip()"
      ],
      "execution_count": null,
      "outputs": []
    },
    {
      "cell_type": "code",
      "metadata": {
        "id": "3prGdJLD1K4P"
      },
      "source": [
        "#Remove NA Values\n",
        "retail_df.dropna(axis=0, subset=['InvoiceNo'], inplace=True)"
      ],
      "execution_count": null,
      "outputs": []
    },
    {
      "cell_type": "code",
      "metadata": {
        "id": "YJvVL-_p1VR1"
      },
      "source": [
        "#Remove Cancelled Orders\n",
        "retail_df['InvoiceNo'] = retail_df['InvoiceNo'].astype('str')\n",
        "retail_df = retail_df[~retail_df['InvoiceNo'].str.contains('C')]"
      ],
      "execution_count": null,
      "outputs": []
    },
    {
      "cell_type": "markdown",
      "metadata": {
        "id": "9FDcnyEf284n"
      },
      "source": [
        "**French Basket**"
      ]
    },
    {
      "cell_type": "code",
      "metadata": {
        "id": "FaXlp02K1g0m"
      },
      "source": [
        "# Convert the units to 1 hot encoded values\n",
        "def encode_units(x):\n",
        "    if x <= 0:\n",
        "        return 0\n",
        "    if x >= 1:\n",
        "        return 1"
      ],
      "execution_count": null,
      "outputs": []
    },
    {
      "cell_type": "code",
      "metadata": {
        "id": "1A5C1l0A2aQp"
      },
      "source": [
        "def create_basket(country_filter):\n",
        "    basket = (retail_df[retail_df['Country'] == country_filter]\n",
        "          .groupby(['InvoiceNo', 'Description'])['Quantity']\n",
        "          .sum().unstack().reset_index().fillna(0)\n",
        "          .set_index('InvoiceNo'))\n",
        "    return basket"
      ],
      "execution_count": null,
      "outputs": []
    },
    {
      "cell_type": "code",
      "metadata": {
        "id": "5Av9fPaT2ffr"
      },
      "source": [
        "country_filter = \"France\"\n",
        "basket_french = create_basket(\"France\")\n",
        "basket_sets = basket_french.applymap(encode_units)\n",
        "basket_sets.drop('POSTAGE', inplace=True, axis=1)"
      ],
      "execution_count": null,
      "outputs": []
    },
    {
      "cell_type": "code",
      "metadata": {
        "id": "i8mxs5PA2k6B"
      },
      "source": [
        "#Build up the frequent itemsets\n",
        "frequent_itemsets = apriori(basket_sets, min_support=0.05, use_colnames=True)"
      ],
      "execution_count": null,
      "outputs": []
    },
    {
      "cell_type": "code",
      "metadata": {
        "id": "HqW7cL3K3SYv",
        "outputId": "549f536b-d69d-4b36-c1de-954d950643c2",
        "colab": {
          "base_uri": "https://localhost:8080/",
          "height": 204
        }
      },
      "source": [
        "frequent_itemsets.head()"
      ],
      "execution_count": null,
      "outputs": [
        {
          "output_type": "execute_result",
          "data": {
            "text/html": [
              "<div>\n",
              "<style scoped>\n",
              "    .dataframe tbody tr th:only-of-type {\n",
              "        vertical-align: middle;\n",
              "    }\n",
              "\n",
              "    .dataframe tbody tr th {\n",
              "        vertical-align: top;\n",
              "    }\n",
              "\n",
              "    .dataframe thead th {\n",
              "        text-align: right;\n",
              "    }\n",
              "</style>\n",
              "<table border=\"1\" class=\"dataframe\">\n",
              "  <thead>\n",
              "    <tr style=\"text-align: right;\">\n",
              "      <th></th>\n",
              "      <th>support</th>\n",
              "      <th>itemsets</th>\n",
              "    </tr>\n",
              "  </thead>\n",
              "  <tbody>\n",
              "    <tr>\n",
              "      <th>0</th>\n",
              "      <td>0.071429</td>\n",
              "      <td>(4 TRADITIONAL SPINNING TOPS)</td>\n",
              "    </tr>\n",
              "    <tr>\n",
              "      <th>1</th>\n",
              "      <td>0.096939</td>\n",
              "      <td>(ALARM CLOCK BAKELIKE GREEN)</td>\n",
              "    </tr>\n",
              "    <tr>\n",
              "      <th>2</th>\n",
              "      <td>0.102041</td>\n",
              "      <td>(ALARM CLOCK BAKELIKE PINK)</td>\n",
              "    </tr>\n",
              "    <tr>\n",
              "      <th>3</th>\n",
              "      <td>0.094388</td>\n",
              "      <td>(ALARM CLOCK BAKELIKE RED)</td>\n",
              "    </tr>\n",
              "    <tr>\n",
              "      <th>4</th>\n",
              "      <td>0.068878</td>\n",
              "      <td>(ASSORTED COLOUR MINI CASES)</td>\n",
              "    </tr>\n",
              "  </tbody>\n",
              "</table>\n",
              "</div>"
            ],
            "text/plain": [
              "    support                       itemsets\n",
              "0  0.071429  (4 TRADITIONAL SPINNING TOPS)\n",
              "1  0.096939   (ALARM CLOCK BAKELIKE GREEN)\n",
              "2  0.102041    (ALARM CLOCK BAKELIKE PINK)\n",
              "3  0.094388     (ALARM CLOCK BAKELIKE RED)\n",
              "4  0.068878   (ASSORTED COLOUR MINI CASES)"
            ]
          },
          "metadata": {
            "tags": []
          },
          "execution_count": 22
        }
      ]
    },
    {
      "cell_type": "code",
      "metadata": {
        "id": "UQlbxlow3Sqf",
        "outputId": "f652acbd-d84f-4e76-ac25-38a4a5aba09d",
        "colab": {
          "base_uri": "https://localhost:8080/",
          "height": 386
        }
      },
      "source": [
        "basket_sets.head()"
      ],
      "execution_count": null,
      "outputs": [
        {
          "output_type": "execute_result",
          "data": {
            "text/html": [
              "<div>\n",
              "<style scoped>\n",
              "    .dataframe tbody tr th:only-of-type {\n",
              "        vertical-align: middle;\n",
              "    }\n",
              "\n",
              "    .dataframe tbody tr th {\n",
              "        vertical-align: top;\n",
              "    }\n",
              "\n",
              "    .dataframe thead th {\n",
              "        text-align: right;\n",
              "    }\n",
              "</style>\n",
              "<table border=\"1\" class=\"dataframe\">\n",
              "  <thead>\n",
              "    <tr style=\"text-align: right;\">\n",
              "      <th>Description</th>\n",
              "      <th>10 COLOUR SPACEBOY PEN</th>\n",
              "      <th>12 COLOURED PARTY BALLOONS</th>\n",
              "      <th>12 EGG HOUSE PAINTED WOOD</th>\n",
              "      <th>12 MESSAGE CARDS WITH ENVELOPES</th>\n",
              "      <th>12 PENCIL SMALL TUBE WOODLAND</th>\n",
              "      <th>12 PENCILS SMALL TUBE RED RETROSPOT</th>\n",
              "      <th>12 PENCILS SMALL TUBE SKULL</th>\n",
              "      <th>12 PENCILS TALL TUBE POSY</th>\n",
              "      <th>12 PENCILS TALL TUBE RED RETROSPOT</th>\n",
              "      <th>12 PENCILS TALL TUBE WOODLAND</th>\n",
              "      <th>15CM CHRISTMAS GLASS BALL 20 LIGHTS</th>\n",
              "      <th>16 PIECE CUTLERY SET PANTRY DESIGN</th>\n",
              "      <th>18PC WOODEN CUTLERY SET DISPOSABLE</th>\n",
              "      <th>20 DOLLY PEGS RETROSPOT</th>\n",
              "      <th>200 RED + WHITE BENDY STRAWS</th>\n",
              "      <th>3 HOOK HANGER MAGIC GARDEN</th>\n",
              "      <th>3 PIECE SPACEBOY COOKIE CUTTER SET</th>\n",
              "      <th>3 RAFFIA RIBBONS 50'S CHRISTMAS</th>\n",
              "      <th>3 STRIPEY MICE FELTCRAFT</th>\n",
              "      <th>3 TIER CAKE TIN RED AND CREAM</th>\n",
              "      <th>3 TRADITIONAl BISCUIT CUTTERS  SET</th>\n",
              "      <th>36 DOILIES DOLLY GIRL</th>\n",
              "      <th>36 DOILIES VINTAGE CHRISTMAS</th>\n",
              "      <th>36 FOIL HEART CAKE CASES</th>\n",
              "      <th>36 FOIL STAR CAKE CASES</th>\n",
              "      <th>36 PENCILS TUBE RED RETROSPOT</th>\n",
              "      <th>36 PENCILS TUBE SKULLS</th>\n",
              "      <th>36 PENCILS TUBE WOODLAND</th>\n",
              "      <th>3D DOG PICTURE PLAYING CARDS</th>\n",
              "      <th>3D HEARTS  HONEYCOMB PAPER GARLAND</th>\n",
              "      <th>3D SHEET OF DOG STICKERS</th>\n",
              "      <th>3D TRADITIONAL CHRISTMAS STICKERS</th>\n",
              "      <th>3D VINTAGE CHRISTMAS STICKERS</th>\n",
              "      <th>4 IVORY DINNER CANDLES SILVER FLOCK</th>\n",
              "      <th>4 PINK DINNER CANDLE SILVER FLOCK</th>\n",
              "      <th>4 TRADITIONAL SPINNING TOPS</th>\n",
              "      <th>5 HOOK HANGER MAGIC TOADSTOOL</th>\n",
              "      <th>5 HOOK HANGER RED MAGIC TOADSTOOL</th>\n",
              "      <th>50'S CHRISTMAS GIFT BAG LARGE</th>\n",
              "      <th>6 GIFT TAGS 50'S CHRISTMAS</th>\n",
              "      <th>...</th>\n",
              "      <th>WOODLAND DESIGN  COTTON TOTE BAG</th>\n",
              "      <th>WOODLAND LARGE BLUE FELT HEART</th>\n",
              "      <th>WOODLAND LARGE PINK FELT HEART</th>\n",
              "      <th>WOODLAND LARGE RED FELT HEART</th>\n",
              "      <th>WOODLAND MINI BACKPACK</th>\n",
              "      <th>WOODLAND PARTY BAG + STICKER SET</th>\n",
              "      <th>WOODLAND SMALL BLUE FELT HEART</th>\n",
              "      <th>WOODLAND SMALL PINK FELT HEART</th>\n",
              "      <th>WOODLAND SMALL RED FELT HEART</th>\n",
              "      <th>WOODLAND STORAGE BOX LARGE</th>\n",
              "      <th>WOODLAND STORAGE BOX SMALL</th>\n",
              "      <th>WORLD WAR 2 GLIDERS ASSTD DESIGNS</th>\n",
              "      <th>WRAP  VINTAGE DOILY</th>\n",
              "      <th>WRAP 50'S  CHRISTMAS</th>\n",
              "      <th>WRAP ALPHABET DESIGN</th>\n",
              "      <th>WRAP CAROUSEL</th>\n",
              "      <th>WRAP CHRISTMAS VILLAGE</th>\n",
              "      <th>WRAP CIRCUS PARADE</th>\n",
              "      <th>WRAP DOILEY DESIGN</th>\n",
              "      <th>WRAP DOLLY GIRL</th>\n",
              "      <th>WRAP ENGLISH ROSE</th>\n",
              "      <th>WRAP GINGHAM ROSE</th>\n",
              "      <th>WRAP GREEN PEARS</th>\n",
              "      <th>WRAP I LOVE LONDON</th>\n",
              "      <th>WRAP PAISLEY PARK</th>\n",
              "      <th>WRAP PINK FAIRY CAKES</th>\n",
              "      <th>WRAP POPPIES  DESIGN</th>\n",
              "      <th>WRAP RED APPLES</th>\n",
              "      <th>WRAP RED VINTAGE DOILY</th>\n",
              "      <th>WRAP SUKI AND FRIENDS</th>\n",
              "      <th>WRAP VINTAGE PETALS  DESIGN</th>\n",
              "      <th>YELLOW COAT RACK PARIS FASHION</th>\n",
              "      <th>YELLOW GIANT GARDEN THERMOMETER</th>\n",
              "      <th>YELLOW SHARK HELICOPTER</th>\n",
              "      <th>ZINC  STAR T-LIGHT HOLDER</th>\n",
              "      <th>ZINC FOLKART SLEIGH BELLS</th>\n",
              "      <th>ZINC HERB GARDEN CONTAINER</th>\n",
              "      <th>ZINC METAL HEART DECORATION</th>\n",
              "      <th>ZINC T-LIGHT HOLDER STAR LARGE</th>\n",
              "      <th>ZINC T-LIGHT HOLDER STARS SMALL</th>\n",
              "    </tr>\n",
              "    <tr>\n",
              "      <th>InvoiceNo</th>\n",
              "      <th></th>\n",
              "      <th></th>\n",
              "      <th></th>\n",
              "      <th></th>\n",
              "      <th></th>\n",
              "      <th></th>\n",
              "      <th></th>\n",
              "      <th></th>\n",
              "      <th></th>\n",
              "      <th></th>\n",
              "      <th></th>\n",
              "      <th></th>\n",
              "      <th></th>\n",
              "      <th></th>\n",
              "      <th></th>\n",
              "      <th></th>\n",
              "      <th></th>\n",
              "      <th></th>\n",
              "      <th></th>\n",
              "      <th></th>\n",
              "      <th></th>\n",
              "      <th></th>\n",
              "      <th></th>\n",
              "      <th></th>\n",
              "      <th></th>\n",
              "      <th></th>\n",
              "      <th></th>\n",
              "      <th></th>\n",
              "      <th></th>\n",
              "      <th></th>\n",
              "      <th></th>\n",
              "      <th></th>\n",
              "      <th></th>\n",
              "      <th></th>\n",
              "      <th></th>\n",
              "      <th></th>\n",
              "      <th></th>\n",
              "      <th></th>\n",
              "      <th></th>\n",
              "      <th></th>\n",
              "      <th></th>\n",
              "      <th></th>\n",
              "      <th></th>\n",
              "      <th></th>\n",
              "      <th></th>\n",
              "      <th></th>\n",
              "      <th></th>\n",
              "      <th></th>\n",
              "      <th></th>\n",
              "      <th></th>\n",
              "      <th></th>\n",
              "      <th></th>\n",
              "      <th></th>\n",
              "      <th></th>\n",
              "      <th></th>\n",
              "      <th></th>\n",
              "      <th></th>\n",
              "      <th></th>\n",
              "      <th></th>\n",
              "      <th></th>\n",
              "      <th></th>\n",
              "      <th></th>\n",
              "      <th></th>\n",
              "      <th></th>\n",
              "      <th></th>\n",
              "      <th></th>\n",
              "      <th></th>\n",
              "      <th></th>\n",
              "      <th></th>\n",
              "      <th></th>\n",
              "      <th></th>\n",
              "      <th></th>\n",
              "      <th></th>\n",
              "      <th></th>\n",
              "      <th></th>\n",
              "      <th></th>\n",
              "      <th></th>\n",
              "      <th></th>\n",
              "      <th></th>\n",
              "      <th></th>\n",
              "      <th></th>\n",
              "    </tr>\n",
              "  </thead>\n",
              "  <tbody>\n",
              "    <tr>\n",
              "      <th>536370</th>\n",
              "      <td>0</td>\n",
              "      <td>0</td>\n",
              "      <td>0</td>\n",
              "      <td>0</td>\n",
              "      <td>0</td>\n",
              "      <td>0</td>\n",
              "      <td>0</td>\n",
              "      <td>0</td>\n",
              "      <td>0</td>\n",
              "      <td>0</td>\n",
              "      <td>0</td>\n",
              "      <td>0</td>\n",
              "      <td>0</td>\n",
              "      <td>0</td>\n",
              "      <td>0</td>\n",
              "      <td>0</td>\n",
              "      <td>0</td>\n",
              "      <td>0</td>\n",
              "      <td>0</td>\n",
              "      <td>0</td>\n",
              "      <td>0</td>\n",
              "      <td>0</td>\n",
              "      <td>0</td>\n",
              "      <td>0</td>\n",
              "      <td>0</td>\n",
              "      <td>0</td>\n",
              "      <td>0</td>\n",
              "      <td>0</td>\n",
              "      <td>0</td>\n",
              "      <td>0</td>\n",
              "      <td>0</td>\n",
              "      <td>0</td>\n",
              "      <td>0</td>\n",
              "      <td>0</td>\n",
              "      <td>0</td>\n",
              "      <td>0</td>\n",
              "      <td>0</td>\n",
              "      <td>0</td>\n",
              "      <td>0</td>\n",
              "      <td>0</td>\n",
              "      <td>...</td>\n",
              "      <td>0</td>\n",
              "      <td>0</td>\n",
              "      <td>0</td>\n",
              "      <td>0</td>\n",
              "      <td>0</td>\n",
              "      <td>0</td>\n",
              "      <td>0</td>\n",
              "      <td>0</td>\n",
              "      <td>0</td>\n",
              "      <td>0</td>\n",
              "      <td>0</td>\n",
              "      <td>0</td>\n",
              "      <td>0</td>\n",
              "      <td>0</td>\n",
              "      <td>0</td>\n",
              "      <td>0</td>\n",
              "      <td>0</td>\n",
              "      <td>0</td>\n",
              "      <td>0</td>\n",
              "      <td>0</td>\n",
              "      <td>0</td>\n",
              "      <td>0</td>\n",
              "      <td>0</td>\n",
              "      <td>0</td>\n",
              "      <td>0</td>\n",
              "      <td>0</td>\n",
              "      <td>0</td>\n",
              "      <td>0</td>\n",
              "      <td>0</td>\n",
              "      <td>0</td>\n",
              "      <td>0</td>\n",
              "      <td>0</td>\n",
              "      <td>0</td>\n",
              "      <td>0</td>\n",
              "      <td>0</td>\n",
              "      <td>0</td>\n",
              "      <td>0</td>\n",
              "      <td>0</td>\n",
              "      <td>0</td>\n",
              "      <td>0</td>\n",
              "    </tr>\n",
              "    <tr>\n",
              "      <th>536852</th>\n",
              "      <td>0</td>\n",
              "      <td>0</td>\n",
              "      <td>0</td>\n",
              "      <td>0</td>\n",
              "      <td>0</td>\n",
              "      <td>0</td>\n",
              "      <td>0</td>\n",
              "      <td>0</td>\n",
              "      <td>0</td>\n",
              "      <td>0</td>\n",
              "      <td>0</td>\n",
              "      <td>0</td>\n",
              "      <td>0</td>\n",
              "      <td>0</td>\n",
              "      <td>0</td>\n",
              "      <td>0</td>\n",
              "      <td>0</td>\n",
              "      <td>0</td>\n",
              "      <td>0</td>\n",
              "      <td>0</td>\n",
              "      <td>0</td>\n",
              "      <td>0</td>\n",
              "      <td>0</td>\n",
              "      <td>0</td>\n",
              "      <td>0</td>\n",
              "      <td>0</td>\n",
              "      <td>0</td>\n",
              "      <td>0</td>\n",
              "      <td>0</td>\n",
              "      <td>0</td>\n",
              "      <td>0</td>\n",
              "      <td>0</td>\n",
              "      <td>0</td>\n",
              "      <td>0</td>\n",
              "      <td>0</td>\n",
              "      <td>0</td>\n",
              "      <td>0</td>\n",
              "      <td>0</td>\n",
              "      <td>0</td>\n",
              "      <td>0</td>\n",
              "      <td>...</td>\n",
              "      <td>0</td>\n",
              "      <td>0</td>\n",
              "      <td>0</td>\n",
              "      <td>0</td>\n",
              "      <td>0</td>\n",
              "      <td>0</td>\n",
              "      <td>0</td>\n",
              "      <td>0</td>\n",
              "      <td>0</td>\n",
              "      <td>0</td>\n",
              "      <td>0</td>\n",
              "      <td>0</td>\n",
              "      <td>0</td>\n",
              "      <td>0</td>\n",
              "      <td>0</td>\n",
              "      <td>0</td>\n",
              "      <td>0</td>\n",
              "      <td>0</td>\n",
              "      <td>0</td>\n",
              "      <td>0</td>\n",
              "      <td>0</td>\n",
              "      <td>0</td>\n",
              "      <td>0</td>\n",
              "      <td>0</td>\n",
              "      <td>0</td>\n",
              "      <td>0</td>\n",
              "      <td>0</td>\n",
              "      <td>0</td>\n",
              "      <td>0</td>\n",
              "      <td>0</td>\n",
              "      <td>0</td>\n",
              "      <td>0</td>\n",
              "      <td>0</td>\n",
              "      <td>0</td>\n",
              "      <td>0</td>\n",
              "      <td>0</td>\n",
              "      <td>0</td>\n",
              "      <td>0</td>\n",
              "      <td>0</td>\n",
              "      <td>0</td>\n",
              "    </tr>\n",
              "    <tr>\n",
              "      <th>536974</th>\n",
              "      <td>0</td>\n",
              "      <td>0</td>\n",
              "      <td>0</td>\n",
              "      <td>0</td>\n",
              "      <td>0</td>\n",
              "      <td>0</td>\n",
              "      <td>0</td>\n",
              "      <td>0</td>\n",
              "      <td>0</td>\n",
              "      <td>0</td>\n",
              "      <td>0</td>\n",
              "      <td>0</td>\n",
              "      <td>0</td>\n",
              "      <td>0</td>\n",
              "      <td>0</td>\n",
              "      <td>0</td>\n",
              "      <td>0</td>\n",
              "      <td>0</td>\n",
              "      <td>0</td>\n",
              "      <td>0</td>\n",
              "      <td>0</td>\n",
              "      <td>0</td>\n",
              "      <td>0</td>\n",
              "      <td>0</td>\n",
              "      <td>0</td>\n",
              "      <td>0</td>\n",
              "      <td>0</td>\n",
              "      <td>0</td>\n",
              "      <td>0</td>\n",
              "      <td>0</td>\n",
              "      <td>0</td>\n",
              "      <td>0</td>\n",
              "      <td>0</td>\n",
              "      <td>0</td>\n",
              "      <td>0</td>\n",
              "      <td>0</td>\n",
              "      <td>0</td>\n",
              "      <td>0</td>\n",
              "      <td>0</td>\n",
              "      <td>0</td>\n",
              "      <td>...</td>\n",
              "      <td>0</td>\n",
              "      <td>0</td>\n",
              "      <td>0</td>\n",
              "      <td>0</td>\n",
              "      <td>0</td>\n",
              "      <td>0</td>\n",
              "      <td>0</td>\n",
              "      <td>0</td>\n",
              "      <td>0</td>\n",
              "      <td>0</td>\n",
              "      <td>0</td>\n",
              "      <td>0</td>\n",
              "      <td>0</td>\n",
              "      <td>0</td>\n",
              "      <td>0</td>\n",
              "      <td>0</td>\n",
              "      <td>0</td>\n",
              "      <td>0</td>\n",
              "      <td>0</td>\n",
              "      <td>0</td>\n",
              "      <td>0</td>\n",
              "      <td>0</td>\n",
              "      <td>0</td>\n",
              "      <td>0</td>\n",
              "      <td>0</td>\n",
              "      <td>0</td>\n",
              "      <td>0</td>\n",
              "      <td>0</td>\n",
              "      <td>0</td>\n",
              "      <td>0</td>\n",
              "      <td>0</td>\n",
              "      <td>0</td>\n",
              "      <td>0</td>\n",
              "      <td>0</td>\n",
              "      <td>0</td>\n",
              "      <td>0</td>\n",
              "      <td>0</td>\n",
              "      <td>0</td>\n",
              "      <td>0</td>\n",
              "      <td>0</td>\n",
              "    </tr>\n",
              "    <tr>\n",
              "      <th>537065</th>\n",
              "      <td>0</td>\n",
              "      <td>0</td>\n",
              "      <td>0</td>\n",
              "      <td>0</td>\n",
              "      <td>0</td>\n",
              "      <td>0</td>\n",
              "      <td>0</td>\n",
              "      <td>0</td>\n",
              "      <td>0</td>\n",
              "      <td>0</td>\n",
              "      <td>0</td>\n",
              "      <td>0</td>\n",
              "      <td>0</td>\n",
              "      <td>0</td>\n",
              "      <td>0</td>\n",
              "      <td>0</td>\n",
              "      <td>0</td>\n",
              "      <td>0</td>\n",
              "      <td>0</td>\n",
              "      <td>0</td>\n",
              "      <td>0</td>\n",
              "      <td>0</td>\n",
              "      <td>0</td>\n",
              "      <td>0</td>\n",
              "      <td>0</td>\n",
              "      <td>0</td>\n",
              "      <td>0</td>\n",
              "      <td>0</td>\n",
              "      <td>0</td>\n",
              "      <td>0</td>\n",
              "      <td>0</td>\n",
              "      <td>0</td>\n",
              "      <td>0</td>\n",
              "      <td>0</td>\n",
              "      <td>0</td>\n",
              "      <td>0</td>\n",
              "      <td>0</td>\n",
              "      <td>1</td>\n",
              "      <td>0</td>\n",
              "      <td>0</td>\n",
              "      <td>...</td>\n",
              "      <td>0</td>\n",
              "      <td>0</td>\n",
              "      <td>0</td>\n",
              "      <td>0</td>\n",
              "      <td>0</td>\n",
              "      <td>0</td>\n",
              "      <td>0</td>\n",
              "      <td>0</td>\n",
              "      <td>0</td>\n",
              "      <td>0</td>\n",
              "      <td>0</td>\n",
              "      <td>0</td>\n",
              "      <td>0</td>\n",
              "      <td>0</td>\n",
              "      <td>0</td>\n",
              "      <td>0</td>\n",
              "      <td>0</td>\n",
              "      <td>0</td>\n",
              "      <td>0</td>\n",
              "      <td>0</td>\n",
              "      <td>0</td>\n",
              "      <td>0</td>\n",
              "      <td>0</td>\n",
              "      <td>0</td>\n",
              "      <td>0</td>\n",
              "      <td>0</td>\n",
              "      <td>0</td>\n",
              "      <td>0</td>\n",
              "      <td>0</td>\n",
              "      <td>0</td>\n",
              "      <td>0</td>\n",
              "      <td>0</td>\n",
              "      <td>0</td>\n",
              "      <td>0</td>\n",
              "      <td>0</td>\n",
              "      <td>0</td>\n",
              "      <td>0</td>\n",
              "      <td>0</td>\n",
              "      <td>0</td>\n",
              "      <td>0</td>\n",
              "    </tr>\n",
              "    <tr>\n",
              "      <th>537463</th>\n",
              "      <td>0</td>\n",
              "      <td>0</td>\n",
              "      <td>0</td>\n",
              "      <td>0</td>\n",
              "      <td>0</td>\n",
              "      <td>0</td>\n",
              "      <td>0</td>\n",
              "      <td>0</td>\n",
              "      <td>0</td>\n",
              "      <td>0</td>\n",
              "      <td>0</td>\n",
              "      <td>0</td>\n",
              "      <td>0</td>\n",
              "      <td>0</td>\n",
              "      <td>0</td>\n",
              "      <td>0</td>\n",
              "      <td>0</td>\n",
              "      <td>0</td>\n",
              "      <td>0</td>\n",
              "      <td>0</td>\n",
              "      <td>0</td>\n",
              "      <td>0</td>\n",
              "      <td>0</td>\n",
              "      <td>0</td>\n",
              "      <td>0</td>\n",
              "      <td>0</td>\n",
              "      <td>0</td>\n",
              "      <td>0</td>\n",
              "      <td>0</td>\n",
              "      <td>0</td>\n",
              "      <td>0</td>\n",
              "      <td>0</td>\n",
              "      <td>0</td>\n",
              "      <td>0</td>\n",
              "      <td>0</td>\n",
              "      <td>0</td>\n",
              "      <td>0</td>\n",
              "      <td>0</td>\n",
              "      <td>0</td>\n",
              "      <td>0</td>\n",
              "      <td>...</td>\n",
              "      <td>0</td>\n",
              "      <td>0</td>\n",
              "      <td>0</td>\n",
              "      <td>0</td>\n",
              "      <td>0</td>\n",
              "      <td>0</td>\n",
              "      <td>0</td>\n",
              "      <td>0</td>\n",
              "      <td>0</td>\n",
              "      <td>0</td>\n",
              "      <td>0</td>\n",
              "      <td>0</td>\n",
              "      <td>0</td>\n",
              "      <td>0</td>\n",
              "      <td>0</td>\n",
              "      <td>0</td>\n",
              "      <td>0</td>\n",
              "      <td>0</td>\n",
              "      <td>0</td>\n",
              "      <td>0</td>\n",
              "      <td>0</td>\n",
              "      <td>0</td>\n",
              "      <td>0</td>\n",
              "      <td>0</td>\n",
              "      <td>0</td>\n",
              "      <td>0</td>\n",
              "      <td>0</td>\n",
              "      <td>0</td>\n",
              "      <td>0</td>\n",
              "      <td>0</td>\n",
              "      <td>0</td>\n",
              "      <td>0</td>\n",
              "      <td>0</td>\n",
              "      <td>0</td>\n",
              "      <td>0</td>\n",
              "      <td>0</td>\n",
              "      <td>0</td>\n",
              "      <td>0</td>\n",
              "      <td>0</td>\n",
              "      <td>0</td>\n",
              "    </tr>\n",
              "  </tbody>\n",
              "</table>\n",
              "<p>5 rows × 1562 columns</p>\n",
              "</div>"
            ],
            "text/plain": [
              "Description  10 COLOUR SPACEBOY PEN  ...  ZINC T-LIGHT HOLDER STARS SMALL\n",
              "InvoiceNo                            ...                                 \n",
              "536370                            0  ...                                0\n",
              "536852                            0  ...                                0\n",
              "536974                            0  ...                                0\n",
              "537065                            0  ...                                0\n",
              "537463                            0  ...                                0\n",
              "\n",
              "[5 rows x 1562 columns]"
            ]
          },
          "metadata": {
            "tags": []
          },
          "execution_count": 23
        }
      ]
    },
    {
      "cell_type": "code",
      "metadata": {
        "id": "Qy6beTpD2ulN",
        "outputId": "3de657fb-4aa9-4c09-e558-dd96d857f296",
        "colab": {
          "base_uri": "https://localhost:8080/",
          "height": 306
        }
      },
      "source": [
        "rules = association_rules(frequent_itemsets, metric=\"lift\", min_threshold=1.2)\n",
        "rules.head()"
      ],
      "execution_count": null,
      "outputs": [
        {
          "output_type": "execute_result",
          "data": {
            "text/html": [
              "<div>\n",
              "<style scoped>\n",
              "    .dataframe tbody tr th:only-of-type {\n",
              "        vertical-align: middle;\n",
              "    }\n",
              "\n",
              "    .dataframe tbody tr th {\n",
              "        vertical-align: top;\n",
              "    }\n",
              "\n",
              "    .dataframe thead th {\n",
              "        text-align: right;\n",
              "    }\n",
              "</style>\n",
              "<table border=\"1\" class=\"dataframe\">\n",
              "  <thead>\n",
              "    <tr style=\"text-align: right;\">\n",
              "      <th></th>\n",
              "      <th>antecedents</th>\n",
              "      <th>consequents</th>\n",
              "      <th>antecedent support</th>\n",
              "      <th>consequent support</th>\n",
              "      <th>support</th>\n",
              "      <th>confidence</th>\n",
              "      <th>lift</th>\n",
              "      <th>leverage</th>\n",
              "      <th>conviction</th>\n",
              "    </tr>\n",
              "  </thead>\n",
              "  <tbody>\n",
              "    <tr>\n",
              "      <th>0</th>\n",
              "      <td>(ALARM CLOCK BAKELIKE GREEN)</td>\n",
              "      <td>(ALARM CLOCK BAKELIKE PINK)</td>\n",
              "      <td>0.096939</td>\n",
              "      <td>0.102041</td>\n",
              "      <td>0.073980</td>\n",
              "      <td>0.763158</td>\n",
              "      <td>7.478947</td>\n",
              "      <td>0.064088</td>\n",
              "      <td>3.791383</td>\n",
              "    </tr>\n",
              "    <tr>\n",
              "      <th>1</th>\n",
              "      <td>(ALARM CLOCK BAKELIKE PINK)</td>\n",
              "      <td>(ALARM CLOCK BAKELIKE GREEN)</td>\n",
              "      <td>0.102041</td>\n",
              "      <td>0.096939</td>\n",
              "      <td>0.073980</td>\n",
              "      <td>0.725000</td>\n",
              "      <td>7.478947</td>\n",
              "      <td>0.064088</td>\n",
              "      <td>3.283859</td>\n",
              "    </tr>\n",
              "    <tr>\n",
              "      <th>2</th>\n",
              "      <td>(ALARM CLOCK BAKELIKE RED)</td>\n",
              "      <td>(ALARM CLOCK BAKELIKE GREEN)</td>\n",
              "      <td>0.094388</td>\n",
              "      <td>0.096939</td>\n",
              "      <td>0.079082</td>\n",
              "      <td>0.837838</td>\n",
              "      <td>8.642959</td>\n",
              "      <td>0.069932</td>\n",
              "      <td>5.568878</td>\n",
              "    </tr>\n",
              "    <tr>\n",
              "      <th>3</th>\n",
              "      <td>(ALARM CLOCK BAKELIKE GREEN)</td>\n",
              "      <td>(ALARM CLOCK BAKELIKE RED)</td>\n",
              "      <td>0.096939</td>\n",
              "      <td>0.094388</td>\n",
              "      <td>0.079082</td>\n",
              "      <td>0.815789</td>\n",
              "      <td>8.642959</td>\n",
              "      <td>0.069932</td>\n",
              "      <td>4.916181</td>\n",
              "    </tr>\n",
              "    <tr>\n",
              "      <th>4</th>\n",
              "      <td>(ALARM CLOCK BAKELIKE RED)</td>\n",
              "      <td>(ALARM CLOCK BAKELIKE PINK)</td>\n",
              "      <td>0.094388</td>\n",
              "      <td>0.102041</td>\n",
              "      <td>0.073980</td>\n",
              "      <td>0.783784</td>\n",
              "      <td>7.681081</td>\n",
              "      <td>0.064348</td>\n",
              "      <td>4.153061</td>\n",
              "    </tr>\n",
              "  </tbody>\n",
              "</table>\n",
              "</div>"
            ],
            "text/plain": [
              "                    antecedents  ... conviction\n",
              "0  (ALARM CLOCK BAKELIKE GREEN)  ...   3.791383\n",
              "1   (ALARM CLOCK BAKELIKE PINK)  ...   3.283859\n",
              "2    (ALARM CLOCK BAKELIKE RED)  ...   5.568878\n",
              "3  (ALARM CLOCK BAKELIKE GREEN)  ...   4.916181\n",
              "4    (ALARM CLOCK BAKELIKE RED)  ...   4.153061\n",
              "\n",
              "[5 rows x 9 columns]"
            ]
          },
          "metadata": {
            "tags": []
          },
          "execution_count": 20
        }
      ]
    },
    {
      "cell_type": "code",
      "metadata": {
        "id": "0f7zAXSv2098",
        "outputId": "6187aa87-e45b-4f2d-8b9a-3e730765998b",
        "colab": {
          "base_uri": "https://localhost:8080/",
          "height": 1000
        }
      },
      "source": [
        "\n",
        "rules[ (rules['lift'] >= 6) &\n",
        "       (rules['confidence'] >= 0.8) ]"
      ],
      "execution_count": null,
      "outputs": [
        {
          "output_type": "execute_result",
          "data": {
            "text/html": [
              "<div>\n",
              "<style scoped>\n",
              "    .dataframe tbody tr th:only-of-type {\n",
              "        vertical-align: middle;\n",
              "    }\n",
              "\n",
              "    .dataframe tbody tr th {\n",
              "        vertical-align: top;\n",
              "    }\n",
              "\n",
              "    .dataframe thead th {\n",
              "        text-align: right;\n",
              "    }\n",
              "</style>\n",
              "<table border=\"1\" class=\"dataframe\">\n",
              "  <thead>\n",
              "    <tr style=\"text-align: right;\">\n",
              "      <th></th>\n",
              "      <th>antecedents</th>\n",
              "      <th>consequents</th>\n",
              "      <th>antecedent support</th>\n",
              "      <th>consequent support</th>\n",
              "      <th>support</th>\n",
              "      <th>confidence</th>\n",
              "      <th>lift</th>\n",
              "      <th>leverage</th>\n",
              "      <th>conviction</th>\n",
              "    </tr>\n",
              "  </thead>\n",
              "  <tbody>\n",
              "    <tr>\n",
              "      <th>2</th>\n",
              "      <td>(ALARM CLOCK BAKELIKE RED)</td>\n",
              "      <td>(ALARM CLOCK BAKELIKE GREEN)</td>\n",
              "      <td>0.094388</td>\n",
              "      <td>0.096939</td>\n",
              "      <td>0.079082</td>\n",
              "      <td>0.837838</td>\n",
              "      <td>8.642959</td>\n",
              "      <td>0.069932</td>\n",
              "      <td>5.568878</td>\n",
              "    </tr>\n",
              "    <tr>\n",
              "      <th>3</th>\n",
              "      <td>(ALARM CLOCK BAKELIKE GREEN)</td>\n",
              "      <td>(ALARM CLOCK BAKELIKE RED)</td>\n",
              "      <td>0.096939</td>\n",
              "      <td>0.094388</td>\n",
              "      <td>0.079082</td>\n",
              "      <td>0.815789</td>\n",
              "      <td>8.642959</td>\n",
              "      <td>0.069932</td>\n",
              "      <td>4.916181</td>\n",
              "    </tr>\n",
              "    <tr>\n",
              "      <th>8</th>\n",
              "      <td>(CHILDRENS CUTLERY SPACEBOY)</td>\n",
              "      <td>(CHILDRENS CUTLERY DOLLY GIRL)</td>\n",
              "      <td>0.068878</td>\n",
              "      <td>0.071429</td>\n",
              "      <td>0.063776</td>\n",
              "      <td>0.925926</td>\n",
              "      <td>12.962963</td>\n",
              "      <td>0.058856</td>\n",
              "      <td>12.535714</td>\n",
              "    </tr>\n",
              "    <tr>\n",
              "      <th>9</th>\n",
              "      <td>(CHILDRENS CUTLERY DOLLY GIRL)</td>\n",
              "      <td>(CHILDRENS CUTLERY SPACEBOY)</td>\n",
              "      <td>0.071429</td>\n",
              "      <td>0.068878</td>\n",
              "      <td>0.063776</td>\n",
              "      <td>0.892857</td>\n",
              "      <td>12.962963</td>\n",
              "      <td>0.058856</td>\n",
              "      <td>8.690476</td>\n",
              "    </tr>\n",
              "    <tr>\n",
              "      <th>38</th>\n",
              "      <td>(PACK OF 6 SKULL PAPER PLATES)</td>\n",
              "      <td>(PACK OF 6 SKULL PAPER CUPS)</td>\n",
              "      <td>0.056122</td>\n",
              "      <td>0.063776</td>\n",
              "      <td>0.051020</td>\n",
              "      <td>0.909091</td>\n",
              "      <td>14.254545</td>\n",
              "      <td>0.047441</td>\n",
              "      <td>10.298469</td>\n",
              "    </tr>\n",
              "    <tr>\n",
              "      <th>39</th>\n",
              "      <td>(PACK OF 6 SKULL PAPER CUPS)</td>\n",
              "      <td>(PACK OF 6 SKULL PAPER PLATES)</td>\n",
              "      <td>0.063776</td>\n",
              "      <td>0.056122</td>\n",
              "      <td>0.051020</td>\n",
              "      <td>0.800000</td>\n",
              "      <td>14.254545</td>\n",
              "      <td>0.047441</td>\n",
              "      <td>4.719388</td>\n",
              "    </tr>\n",
              "    <tr>\n",
              "      <th>64</th>\n",
              "      <td>(SET/6 RED SPOTTY PAPER PLATES)</td>\n",
              "      <td>(SET/20 RED RETROSPOT PAPER NAPKINS)</td>\n",
              "      <td>0.127551</td>\n",
              "      <td>0.132653</td>\n",
              "      <td>0.102041</td>\n",
              "      <td>0.800000</td>\n",
              "      <td>6.030769</td>\n",
              "      <td>0.085121</td>\n",
              "      <td>4.336735</td>\n",
              "    </tr>\n",
              "    <tr>\n",
              "      <th>66</th>\n",
              "      <td>(SET/6 RED SPOTTY PAPER PLATES)</td>\n",
              "      <td>(SET/6 RED SPOTTY PAPER CUPS)</td>\n",
              "      <td>0.127551</td>\n",
              "      <td>0.137755</td>\n",
              "      <td>0.122449</td>\n",
              "      <td>0.960000</td>\n",
              "      <td>6.968889</td>\n",
              "      <td>0.104878</td>\n",
              "      <td>21.556122</td>\n",
              "    </tr>\n",
              "    <tr>\n",
              "      <th>67</th>\n",
              "      <td>(SET/6 RED SPOTTY PAPER CUPS)</td>\n",
              "      <td>(SET/6 RED SPOTTY PAPER PLATES)</td>\n",
              "      <td>0.137755</td>\n",
              "      <td>0.127551</td>\n",
              "      <td>0.122449</td>\n",
              "      <td>0.888889</td>\n",
              "      <td>6.968889</td>\n",
              "      <td>0.104878</td>\n",
              "      <td>7.852041</td>\n",
              "    </tr>\n",
              "    <tr>\n",
              "      <th>68</th>\n",
              "      <td>(ALARM CLOCK BAKELIKE RED, ALARM CLOCK BAKELIK...</td>\n",
              "      <td>(ALARM CLOCK BAKELIKE PINK)</td>\n",
              "      <td>0.079082</td>\n",
              "      <td>0.102041</td>\n",
              "      <td>0.063776</td>\n",
              "      <td>0.806452</td>\n",
              "      <td>7.903226</td>\n",
              "      <td>0.055706</td>\n",
              "      <td>4.639456</td>\n",
              "    </tr>\n",
              "    <tr>\n",
              "      <th>69</th>\n",
              "      <td>(ALARM CLOCK BAKELIKE RED, ALARM CLOCK BAKELIK...</td>\n",
              "      <td>(ALARM CLOCK BAKELIKE GREEN)</td>\n",
              "      <td>0.073980</td>\n",
              "      <td>0.096939</td>\n",
              "      <td>0.063776</td>\n",
              "      <td>0.862069</td>\n",
              "      <td>8.892922</td>\n",
              "      <td>0.056604</td>\n",
              "      <td>6.547194</td>\n",
              "    </tr>\n",
              "    <tr>\n",
              "      <th>70</th>\n",
              "      <td>(ALARM CLOCK BAKELIKE PINK, ALARM CLOCK BAKELI...</td>\n",
              "      <td>(ALARM CLOCK BAKELIKE RED)</td>\n",
              "      <td>0.073980</td>\n",
              "      <td>0.094388</td>\n",
              "      <td>0.063776</td>\n",
              "      <td>0.862069</td>\n",
              "      <td>9.133271</td>\n",
              "      <td>0.056793</td>\n",
              "      <td>6.565689</td>\n",
              "    </tr>\n",
              "    <tr>\n",
              "      <th>80</th>\n",
              "      <td>(SET/6 RED SPOTTY PAPER PLATES, SET/20 RED RET...</td>\n",
              "      <td>(SET/6 RED SPOTTY PAPER CUPS)</td>\n",
              "      <td>0.102041</td>\n",
              "      <td>0.137755</td>\n",
              "      <td>0.099490</td>\n",
              "      <td>0.975000</td>\n",
              "      <td>7.077778</td>\n",
              "      <td>0.085433</td>\n",
              "      <td>34.489796</td>\n",
              "    </tr>\n",
              "    <tr>\n",
              "      <th>81</th>\n",
              "      <td>(SET/6 RED SPOTTY PAPER PLATES, SET/6 RED SPOT...</td>\n",
              "      <td>(SET/20 RED RETROSPOT PAPER NAPKINS)</td>\n",
              "      <td>0.122449</td>\n",
              "      <td>0.132653</td>\n",
              "      <td>0.099490</td>\n",
              "      <td>0.812500</td>\n",
              "      <td>6.125000</td>\n",
              "      <td>0.083247</td>\n",
              "      <td>4.625850</td>\n",
              "    </tr>\n",
              "    <tr>\n",
              "      <th>82</th>\n",
              "      <td>(SET/20 RED RETROSPOT PAPER NAPKINS, SET/6 RED...</td>\n",
              "      <td>(SET/6 RED SPOTTY PAPER PLATES)</td>\n",
              "      <td>0.102041</td>\n",
              "      <td>0.127551</td>\n",
              "      <td>0.099490</td>\n",
              "      <td>0.975000</td>\n",
              "      <td>7.644000</td>\n",
              "      <td>0.086474</td>\n",
              "      <td>34.897959</td>\n",
              "    </tr>\n",
              "  </tbody>\n",
              "</table>\n",
              "</div>"
            ],
            "text/plain": [
              "                                          antecedents  ... conviction\n",
              "2                          (ALARM CLOCK BAKELIKE RED)  ...   5.568878\n",
              "3                        (ALARM CLOCK BAKELIKE GREEN)  ...   4.916181\n",
              "8                        (CHILDRENS CUTLERY SPACEBOY)  ...  12.535714\n",
              "9                      (CHILDRENS CUTLERY DOLLY GIRL)  ...   8.690476\n",
              "38                     (PACK OF 6 SKULL PAPER PLATES)  ...  10.298469\n",
              "39                       (PACK OF 6 SKULL PAPER CUPS)  ...   4.719388\n",
              "64                    (SET/6 RED SPOTTY PAPER PLATES)  ...   4.336735\n",
              "66                    (SET/6 RED SPOTTY PAPER PLATES)  ...  21.556122\n",
              "67                      (SET/6 RED SPOTTY PAPER CUPS)  ...   7.852041\n",
              "68  (ALARM CLOCK BAKELIKE RED, ALARM CLOCK BAKELIK...  ...   4.639456\n",
              "69  (ALARM CLOCK BAKELIKE RED, ALARM CLOCK BAKELIK...  ...   6.547194\n",
              "70  (ALARM CLOCK BAKELIKE PINK, ALARM CLOCK BAKELI...  ...   6.565689\n",
              "80  (SET/6 RED SPOTTY PAPER PLATES, SET/20 RED RET...  ...  34.489796\n",
              "81  (SET/6 RED SPOTTY PAPER PLATES, SET/6 RED SPOT...  ...   4.625850\n",
              "82  (SET/20 RED RETROSPOT PAPER NAPKINS, SET/6 RED...  ...  34.897959\n",
              "\n",
              "[15 rows x 9 columns]"
            ]
          },
          "metadata": {
            "tags": []
          },
          "execution_count": 24
        }
      ]
    },
    {
      "cell_type": "code",
      "metadata": {
        "id": "6yTOb3_Y3ro3",
        "outputId": "96e90045-dc78-4692-f35c-4f3b7e26f573",
        "colab": {
          "base_uri": "https://localhost:8080/",
          "height": 34
        }
      },
      "source": [
        "basket_sets['ALARM CLOCK BAKELIKE GREEN'].sum()"
      ],
      "execution_count": null,
      "outputs": [
        {
          "output_type": "execute_result",
          "data": {
            "text/plain": [
              "38"
            ]
          },
          "metadata": {
            "tags": []
          },
          "execution_count": 26
        }
      ]
    },
    {
      "cell_type": "code",
      "metadata": {
        "id": "LjjH-NTs30jf",
        "outputId": "b4e1ed9f-42d5-4899-fa94-87fa32d969b3",
        "colab": {
          "base_uri": "https://localhost:8080/",
          "height": 34
        }
      },
      "source": [
        "basket_sets['ALARM CLOCK BAKELIKE RED'].sum()"
      ],
      "execution_count": null,
      "outputs": [
        {
          "output_type": "execute_result",
          "data": {
            "text/plain": [
              "37"
            ]
          },
          "metadata": {
            "tags": []
          },
          "execution_count": 27
        }
      ]
    },
    {
      "cell_type": "code",
      "metadata": {
        "id": "PaTBTHbc39Nt",
        "outputId": "6cb390e4-61af-4785-e663-0ad43291e63e",
        "colab": {
          "base_uri": "https://localhost:8080/",
          "height": 1000
        }
      },
      "source": [
        "#plotting output in a graph plot.\n",
        "\n",
        "import networkx as nx\n",
        "import matplotlib.pyplot as plt  \n",
        "\n",
        "def draw_graph(rules, rules_to_show):\n",
        "    G1 = nx.DiGraph()\n",
        "    color_map=[]\n",
        "    N = 50\n",
        "    colors = np.random.rand(N)    \n",
        "    strs=['R0', 'R1', 'R2', 'R3', 'R4', 'R5', 'R6', 'R7', 'R8', 'R9', 'R10', 'R11']\n",
        "\n",
        "    for i in range(rules_to_show):\n",
        "        G1.add_nodes_from([\"R\"+str(i)])\n",
        "        for a in rules.iloc[i]['antecedents']:\n",
        "            G1.add_nodes_from([a])\n",
        "            G1.add_edge(a, \"R\"+str(i), color=colors[i] , weight = 2)\n",
        "        for c in rules.iloc[i]['consequents']:\n",
        "            G1.add_nodes_from([c])\n",
        "            G1.add_edge(\"R\"+str(i), c, color=colors[i],  weight=2)\n",
        "\n",
        "    for node in G1:\n",
        "        found_a_string = False\n",
        "        for item in strs: \n",
        "            if node==item:\n",
        "                found_a_string = True\n",
        "        if found_a_string:\n",
        "            color_map.append('yellow')\n",
        "        else:\n",
        "            color_map.append('green')       \n",
        "\n",
        "    edges = G1.edges()\n",
        "    colors = [G1[u][v]['color'] for u,v in edges]\n",
        "    weights = [G1[u][v]['weight'] for u,v in edges]\n",
        "\n",
        "    pos = nx.spring_layout(G1, k=16, scale=1)\n",
        "    nx.draw(G1, pos, node_color = color_map, edge_color=colors, width=weights, font_size=16, \n",
        "            with_labels=False)            \n",
        "\n",
        "    for p in pos:  # raise text positions\n",
        "        pos[p][1] += 0.07\n",
        "        nx.draw_networkx_labels(G1, pos)\n",
        "        plt.show()\n",
        "\n",
        "draw_graph(rules, 10)"
      ],
      "execution_count": null,
      "outputs": [
        {
          "output_type": "display_data",
          "data": {
            "image/png": "[encoded data removed]",
            "text/plain": [
              "<Figure size 432x288 with 1 Axes>"
            ]
          },
          "metadata": {
            "tags": []
          }
        },
        {
          "output_type": "display_data",
          "data": {
            "image/png": "[encoded data removed]",
            "text/plain": [
              "<Figure size 432x288 with 1 Axes>"
            ]
          },
          "metadata": {
            "tags": []
          }
        },
        {
          "output_type": "display_data",
          "data": {
            "image/png": "[encoded data removed]",
            "text/plain": [
              "<Figure size 432x288 with 1 Axes>"
            ]
          },
          "metadata": {
            "tags": []
          }
        },
        {
          "output_type": "display_data",
          "data": {
            "image/png": "[encoded data removed]",
            "text/plain": [
              "<Figure size 432x288 with 1 Axes>"
            ]
          },
          "metadata": {
            "tags": []
          }
        },
        {
          "output_type": "display_data",
          "data": {
            "image/png": "[encoded data removed]",
            "text/plain": [
              "<Figure size 432x288 with 1 Axes>"
            ]
          },
          "metadata": {
            "tags": []
          }
        },
        {
          "output_type": "display_data",
          "data": {
            "image/png": "[encoded data removed]",
            "text/plain": [
              "<Figure size 432x288 with 1 Axes>"
            ]
          },
          "metadata": {
            "tags": []
          }
        },
        {
          "output_type": "display_data",
          "data": {
            "image/png": "[encoded data removed]",
            "text/plain": [
              "<Figure size 432x288 with 1 Axes>"
            ]
          },
          "metadata": {
            "tags": []
          }
        },
        {
          "output_type": "display_data",
          "data": {
            "image/png": "[encoded data removed]",
            "text/plain": [
              "<Figure size 432x288 with 1 Axes>"
            ]
          },
          "metadata": {
            "tags": []
          }
        },
        {
          "output_type": "display_data",
          "data": {
            "image/png": "[encoded data removed]",
            "text/plain": [
              "<Figure size 432x288 with 1 Axes>"
            ]
          },
          "metadata": {
            "tags": []
          }
        },
        {
          "output_type": "display_data",
          "data": {
            "image/png": "[encoded data removed]",
            "text/plain": [
              "<Figure size 432x288 with 1 Axes>"
            ]
          },
          "metadata": {
            "tags": []
          }
        },
        {
          "output_type": "display_data",
          "data": {
            "image/png": "[encoded data removed]",
            "text/plain": [
              "<Figure size 432x288 with 1 Axes>"
            ]
          },
          "metadata": {
            "tags": []
          }
        },
        {
          "output_type": "display_data",
          "data": {
            "image/png": "[encoded data removed]",
            "text/plain": [
              "<Figure size 432x288 with 1 Axes>"
            ]
          },
          "metadata": {
            "tags": []
          }
        },
        {
          "output_type": "display_data",
          "data": {
            "image/png": "[encoded data removed]",
            "text/plain": [
              "<Figure size 432x288 with 1 Axes>"
            ]
          },
          "metadata": {
            "tags": []
          }
        },
        {
          "output_type": "display_data",
          "data": {
            "image/png": "[encoded data removed]",
            "text/plain": [
              "<Figure size 432x288 with 1 Axes>"
            ]
          },
          "metadata": {
            "tags": []
          }
        },
        {
          "output_type": "display_data",
          "data": {
            "image/png": "[encoded data removed]",
            "text/plain": [
              "<Figure size 432x288 with 1 Axes>"
            ]
          },
          "metadata": {
            "tags": []
          }
        },
        {
          "output_type": "display_data",
          "data": {
            "image/png": "[encoded data removed]",
            "text/plain": [
              "<Figure size 432x288 with 1 Axes>"
            ]
          },
          "metadata": {
            "tags": []
          }
        }
      ]
    },
    {
      "cell_type": "code",
      "metadata": {
        "id": "r9AbXqni50qi"
      },
      "source": [
        ""
      ],
      "execution_count": null,
      "outputs": []
    }
  ]
}